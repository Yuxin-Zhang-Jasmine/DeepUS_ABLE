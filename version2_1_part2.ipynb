{
  "nbformat": 4,
  "nbformat_minor": 0,
  "metadata": {
    "accelerator": "GPU",
    "colab": {
      "name": "version2.1_part2.ipynb",
      "provenance": [],
      "collapsed_sections": [],
      "machine_shape": "hm",
      "include_colab_link": true
    },
    "kernelspec": {
      "display_name": "Python 3",
      "language": "python",
      "name": "python3"
    },
    "language_info": {
      "codemirror_mode": {
        "name": "ipython",
        "version": 3
      },
      "file_extension": ".py",
      "mimetype": "text/x-python",
      "name": "python",
      "nbconvert_exporter": "python",
      "pygments_lexer": "ipython3",
      "version": "3.8.5"
    }
  },
  "cells": [
    {
      "cell_type": "markdown",
      "metadata": {
        "id": "view-in-github",
        "colab_type": "text"
      },
      "source": [
        "<a href=\"https://colab.research.google.com/github/Yuxin-Zhang-Jasmine/DeepUS_ABLE/blob/development/version2_1_part2.ipynb\" target=\"_parent\"><img src=\"https://colab.research.google.com/assets/colab-badge.svg\" alt=\"Open In Colab\"/></a>"
      ]
    },
    {
      "cell_type": "code",
      "metadata": {
        "colab": {
          "base_uri": "https://localhost:8080/",
          "height": 35
        },
        "id": "ZQCDe0X9r7r4",
        "outputId": "7abfb5ac-af20-43f9-f4aa-50e95f4e99c8"
      },
      "source": [
        "import tensorflow as tf\n",
        "from tensorflow import keras\n",
        "from tensorflow.keras import backend as K\n",
        "import scipy.io as scio\n",
        "import numpy as np\n",
        "import matplotlib.pyplot as plt\n",
        "import os\n",
        "import h5py\n",
        "tf.__version__ "
      ],
      "execution_count": 4,
      "outputs": [
        {
          "output_type": "execute_result",
          "data": {
            "application/vnd.google.colaboratory.intrinsic+json": {
              "type": "string"
            },
            "text/plain": [
              "'2.4.1'"
            ]
          },
          "metadata": {
            "tags": []
          },
          "execution_count": 4
        }
      ]
    },
    {
      "cell_type": "markdown",
      "metadata": {
        "id": "EkiDQmkQr7r9"
      },
      "source": [
        "## 1-3. Prepare x_train / y_train / y_train_weights"
      ]
    },
    {
      "cell_type": "code",
      "metadata": {
        "cellView": "code",
        "colab": {
          "base_uri": "https://localhost:8080/"
        },
        "id": "kCO0J360wTe3",
        "outputId": "59d31b07-ff11-4639-a813-562fca3bc9a6"
      },
      "source": [
        "from google.colab import drive\n",
        "drive.mount('/content/drive')"
      ],
      "execution_count": 2,
      "outputs": [
        {
          "output_type": "stream",
          "text": [
            "Mounted at /content/drive\n"
          ],
          "name": "stdout"
        }
      ]
    },
    {
      "cell_type": "code",
      "metadata": {
        "colab": {
          "base_uri": "https://localhost:8080/"
        },
        "id": "FhNo4bnAzS1n",
        "outputId": "fff1e34a-8469-4bcf-ee7c-c65411238521"
      },
      "source": [
        "!unzip '/content/drive/MyDrive/DeepUS/datasets.zip'"
      ],
      "execution_count": 5,
      "outputs": [
        {
          "output_type": "stream",
          "text": [
            "Archive:  /content/drive/MyDrive/DeepUS/datasets.zip\n",
            "  inflating: datasets.hdf5           \n"
          ],
          "name": "stdout"
        }
      ]
    },
    {
      "cell_type": "code",
      "metadata": {
        "id": "qXQLSPmA9Pkj"
      },
      "source": [
        "f = h5py.File('datasets.hdf5','r')\n",
        "pht = list(f['PICMUS16']['x_train'].keys())\n",
        "# print(pht)  ['carotid_cross_expe',..., 'resolution_distorsion_simu']"
      ],
      "execution_count": 6,
      "outputs": []
    },
    {
      "cell_type": "code",
      "metadata": {
        "id": "C1pTQJtn22p1"
      },
      "source": [
        "x_train = np.array(f['PICMUS16']['x_train'][pht[4]])  # np.amax(x_train) == 0.1356\n",
        "y_train = np.array(f['PICMUS16']['y_train'][pht[4]])  # np.amax(y_train) == 105.612274\n",
        "y_train_weights = np.array(f['PICMUS16']['y_train_weights'][pht[4]])"
      ],
      "execution_count": 22,
      "outputs": []
    },
    {
      "cell_type": "code",
      "metadata": {
        "id": "QSJ2kh8W_EmP"
      },
      "source": [
        "# x_train = np.vstack((f['PICMUS16']['x_train'][pht[i]] for i in range(2)))\n",
        "# y_train = np.vstack((f['PICMUS16']['y_train'][pht[i]] for i in range(2)))"
      ],
      "execution_count": null,
      "outputs": []
    },
    {
      "cell_type": "markdown",
      "metadata": {
        "id": "dGsY24oPr7r7"
      },
      "source": [
        "# 1. Reproduce ABLE"
      ]
    },
    {
      "cell_type": "code",
      "metadata": {
        "id": "VZtduulhr7r6"
      },
      "source": [
        "Ne = 128 # number of transducer elements"
      ],
      "execution_count": 8,
      "outputs": []
    },
    {
      "cell_type": "markdown",
      "metadata": {
        "id": "hfY6SyW7r7r7"
      },
      "source": [
        "## 1-1. Build a model"
      ]
    },
    {
      "cell_type": "code",
      "metadata": {
        "id": "cy1_ZITbr7r7"
      },
      "source": [
        "def antirectifier(x):   #copy from https://www.tensorflow.org/.../keras/layers/Lambda\n",
        "    x -= K.mean(x, axis=1, keepdims=True)\n",
        "    x = K.l2_normalize(x, axis=1)\n",
        "    pos = K.relu(x)\n",
        "    neg = K.relu(-x)\n",
        "    return K.concatenate([pos, neg], axis=1)"
      ],
      "execution_count": 9,
      "outputs": []
    },
    {
      "cell_type": "code",
      "metadata": {
        "id": "jrNnYENmr7r8"
      },
      "source": [
        "_input = keras.Input(shape=(Ne,))\n",
        "x = keras.layers.Dense(Ne)(_input)\n",
        "x = keras.layers.Lambda(antirectifier)(x)\n",
        "x = keras.layers.Dropout(0.2)(x)\n",
        "\n",
        "x = keras.layers.Dense(Ne/4)(x)\n",
        "x = keras.layers.Lambda(antirectifier)(x)\n",
        "x = keras.layers.Dropout(0.2)(x)\n",
        "\n",
        "x = keras.layers.Dense(Ne/4)(x)\n",
        "x = keras.layers.Lambda(antirectifier)(x)\n",
        "x = keras.layers.Dropout(0.2)(x)\n",
        "\n",
        "weights = keras.layers.Dense(Ne, name = \"weights\")(x)  # no activation is applied\n",
        "sumWeights = keras.layers.Lambda(lambda x: K.sum(x, axis=1, keepdims=True), name = \"sumWeights\")(weights) \n",
        "\n",
        "multiplied = keras.layers.Multiply()([_input, weights])\n",
        "output = keras.layers.Lambda(lambda x: K.sum(x, axis=1, keepdims=True), name=\"output\")(multiplied)\n",
        "\n",
        "model = keras.Model(\n",
        "    inputs=[_input],\n",
        "    outputs=[output,sumWeights],\n",
        ")\n",
        "\n",
        "#uncomment to see the architecture of the model\n",
        "#keras.utils.plot_model(model, \"ABLE_model_with_shape_info.png\", show_shapes=True)  "
      ],
      "execution_count": 10,
      "outputs": []
    },
    {
      "cell_type": "markdown",
      "metadata": {
        "id": "RaNLGgPvr7r8"
      },
      "source": [
        "## 1-2 Define loss functions and compile"
      ]
    },
    {
      "cell_type": "code",
      "metadata": {
        "id": "Upe5cN0Sr7r8"
      },
      "source": [
        "def loss_SMSLE(y_true, y_pred, scale=1.):\n",
        "    first_log = K.log(K.clip(K.abs(y_pred[:, :1]) * scale, K.epsilon(), None) + 1.) * K.sign(y_pred[:, :1])\n",
        "    second_log = K.log(K.clip(K.abs(y_true[:, :1]) * scale, K.epsilon(), None) + 1.) * K.sign(y_true[:, :1])\n",
        "    return K.mean(K.square(first_log - second_log), axis=-1)"
      ],
      "execution_count": 11,
      "outputs": []
    },
    {
      "cell_type": "code",
      "metadata": {
        "id": "dHzjqmfZr7r8"
      },
      "source": [
        "def loss_unity(y_true, y_pred):\n",
        "    return K.mean( K.square(y_pred - y_true),  axis=0 )"
      ],
      "execution_count": 12,
      "outputs": []
    },
    {
      "cell_type": "code",
      "metadata": {
        "id": "rn9sFAmQr7r9"
      },
      "source": [
        "lbd = 0.7\n",
        "model.compile(\n",
        "    optimizer = keras.optimizers.Adam(learning_rate=1e-3),\n",
        "    loss={\"output\":loss_SMSLE, \"sumWeights\":loss_unity},\n",
        "    loss_weights=[lbd,1-lbd]\n",
        ")"
      ],
      "execution_count": 13,
      "outputs": []
    },
    {
      "cell_type": "markdown",
      "metadata": {
        "id": "FGAjboEUr7r-"
      },
      "source": [
        "## 1-3. Train and save the model"
      ]
    },
    {
      "cell_type": "code",
      "metadata": {
        "id": "xffKRUbIr7r-"
      },
      "source": [
        "val_split = 0.3\n",
        "EPOCHS = 10\n",
        "checkpoint_filepath = '/content/model_saved'\n",
        "\n",
        "model_checkpoint_callback = keras.callbacks.ModelCheckpoint(\n",
        "    filepath=checkpoint_filepath,\n",
        "    save_weights_only=True,\n",
        "    monitor='val_loss',\n",
        "    mode='min',\n",
        "    save_best_only=True)\n",
        "\n",
        "early_stop_callback = keras.callbacks.EarlyStopping(\n",
        "    monitor='val_loss', \n",
        "    patience=2)"
      ],
      "execution_count": 14,
      "outputs": []
    },
    {
      "cell_type": "code",
      "metadata": {
        "colab": {
          "base_uri": "https://localhost:8080/",
          "height": 35
        },
        "id": "9bTMZpcGYOAd",
        "outputId": "56527f24-c43c-40c3-a846-c094091c84f8"
      },
      "source": [
        "tf.test.gpu_device_name()"
      ],
      "execution_count": 27,
      "outputs": [
        {
          "output_type": "execute_result",
          "data": {
            "application/vnd.google.colaboratory.intrinsic+json": {
              "type": "string"
            },
            "text/plain": [
              "'/device:GPU:0'"
            ]
          },
          "metadata": {
            "tags": []
          },
          "execution_count": 27
        }
      ]
    },
    {
      "cell_type": "code",
      "metadata": {
        "id": "DXqEs9oNr7r-",
        "colab": {
          "base_uri": "https://localhost:8080/"
        },
        "outputId": "6361a764-a464-41db-c740-7fb7f08a1554"
      },
      "source": [
        "# Model weights are saved at the end of every epoch, if it's the best seen so far.\n",
        "model.fit(x=x_train, y=[y_train, y_train_weights], \n",
        "          validation_split=val_split, epochs=EPOCHS, batch_size=235683,\n",
        "          callbacks=[model_checkpoint_callback,early_stop_callback])\n",
        "\n",
        "# The training result here corresponds to batch_size=32"
      ],
      "execution_count": 26,
      "outputs": [
        {
          "output_type": "stream",
          "text": [
            "Epoch 1/10\n",
            "386668/386668 [==============================] - 2191s 6ms/step - loss: 0.4767 - output_loss: 0.6796 - sumWeights_loss: 0.0031 - val_loss: 0.2064 - val_output_loss: 0.2948 - val_sumWeights_loss: 8.7867e-06\n",
            "Epoch 2/10\n",
            "386668/386668 [==============================] - 2171s 6ms/step - loss: 0.1985 - output_loss: 0.2823 - sumWeights_loss: 0.0030 - val_loss: 0.1805 - val_output_loss: 0.2502 - val_sumWeights_loss: 0.0177\n",
            "Epoch 3/10\n",
            "386668/386668 [==============================] - 2174s 6ms/step - loss: 0.1761 - output_loss: 0.2503 - sumWeights_loss: 0.0031 - val_loss: 0.1578 - val_output_loss: 0.2252 - val_sumWeights_loss: 3.5345e-04\n",
            "Epoch 4/10\n",
            "386668/386668 [==============================] - 2173s 6ms/step - loss: 0.1614 - output_loss: 0.2293 - sumWeights_loss: 0.0030 - val_loss: 0.1477 - val_output_loss: 0.2109 - val_sumWeights_loss: 2.8497e-04\n",
            "Epoch 5/10\n",
            "386668/386668 [==============================] - 2177s 6ms/step - loss: 0.1526 - output_loss: 0.2167 - sumWeights_loss: 0.0030 - val_loss: 0.1409 - val_output_loss: 0.2006 - val_sumWeights_loss: 0.0015\n",
            "Epoch 6/10\n",
            "386668/386668 [==============================] - 2175s 6ms/step - loss: 0.1469 - output_loss: 0.2086 - sumWeights_loss: 0.0030 - val_loss: 0.1370 - val_output_loss: 0.1957 - val_sumWeights_loss: 2.4214e-06\n",
            "Epoch 7/10\n",
            "386668/386668 [==============================] - 2174s 6ms/step - loss: 0.1427 - output_loss: 0.2026 - sumWeights_loss: 0.0030 - val_loss: 0.1347 - val_output_loss: 0.1918 - val_sumWeights_loss: 0.0014\n",
            "Epoch 8/10\n",
            "386668/386668 [==============================] - 2168s 6ms/step - loss: 0.1400 - output_loss: 0.1987 - sumWeights_loss: 0.0030 - val_loss: 0.1324 - val_output_loss: 0.1889 - val_sumWeights_loss: 4.0750e-04\n",
            "Epoch 9/10\n",
            "386668/386668 [==============================] - 2168s 6ms/step - loss: 0.1381 - output_loss: 0.1960 - sumWeights_loss: 0.0029 - val_loss: 0.1298 - val_output_loss: 0.1854 - val_sumWeights_loss: 2.0632e-07\n",
            "Epoch 10/10\n",
            "386668/386668 [==============================] - 2185s 6ms/step - loss: 0.1364 - output_loss: 0.1936 - sumWeights_loss: 0.0029 - val_loss: 0.1287 - val_output_loss: 0.1832 - val_sumWeights_loss: 0.0015\n"
          ],
          "name": "stdout"
        },
        {
          "output_type": "execute_result",
          "data": {
            "text/plain": [
              "<tensorflow.python.keras.callbacks.History at 0x7faba6651150>"
            ]
          },
          "metadata": {
            "tags": []
          },
          "execution_count": 26
        }
      ]
    },
    {
      "cell_type": "code",
      "metadata": {
        "colab": {
          "base_uri": "https://localhost:8080/"
        },
        "id": "gS5MyZY8QHrh",
        "outputId": "90736009-2b49-4da2-a655-0fc4f5eddd0f"
      },
      "source": [
        "model.save(\"my_model.tf\")\n",
        "model.save_weights(\"my_weights.tf\")  #use it beacause checkpoint doesn't work"
      ],
      "execution_count": 28,
      "outputs": [
        {
          "output_type": "stream",
          "text": [
            "INFO:tensorflow:Assets written to: my_model.tf/assets\n"
          ],
          "name": "stdout"
        }
      ]
    },
    {
      "cell_type": "code",
      "metadata": {
        "id": "-gGXMxHgQNQd"
      },
      "source": [
        ""
      ],
      "execution_count": null,
      "outputs": []
    }
  ]
}
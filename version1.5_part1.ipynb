{
 "cells": [
  {
   "cell_type": "code",
   "execution_count": 1,
   "metadata": {},
   "outputs": [
    {
     "data": {
      "text/plain": [
       "'2.4.1'"
      ]
     },
     "execution_count": 1,
     "metadata": {},
     "output_type": "execute_result"
    }
   ],
   "source": [
    "import tensorflow as tf\n",
    "from tensorflow import keras\n",
    "from tensorflow.keras import backend as K\n",
    "import scipy.io as scio\n",
    "import numpy as np\n",
    "import matplotlib.pyplot as plt\n",
    "\n",
    "tf.__version__ "
   ]
  },
  {
   "cell_type": "code",
   "execution_count": 2,
   "metadata": {},
   "outputs": [],
   "source": [
    "Ne = 128  # Number of transducer elements\n",
    "Nx, Nz = 387, 609\n",
    "pixels = Nx * Nz"
   ]
  },
  {
   "cell_type": "markdown",
   "metadata": {},
   "source": [
    "# 1. Reproduce ABLE"
   ]
  },
  {
   "cell_type": "markdown",
   "metadata": {},
   "source": [
    "## 1-1. Build and compile a model"
   ]
  },
  {
   "cell_type": "code",
   "execution_count": 3,
   "metadata": {},
   "outputs": [],
   "source": [
    "def antirectifier(x):   #copy from https://www.tensorflow.org/.../keras/layers/Lambda\n",
    "    x -= K.mean(x, axis=1, keepdims=True)\n",
    "    x = K.l2_normalize(x, axis=1)\n",
    "    pos = K.relu(x)\n",
    "    neg = K.relu(-x)\n",
    "    return K.concatenate([pos, neg], axis=1)"
   ]
  },
  {
   "cell_type": "code",
   "execution_count": null,
   "metadata": {},
   "outputs": [],
   "source": [
    "_input = keras.Input(shape=(Ne,))\n",
    "x = keras.layers.Dense(Ne)(_input)\n",
    "x = keras.layers.Lambda(antirectifier)(x)\n",
    "x = keras.layers.Dropout(0.2)(x)\n",
    "\n",
    "x = keras.layers.Dense(Ne/4)(x)\n",
    "x = keras.layers.Lambda(antirectifier)(x)\n",
    "x = keras.layers.Dropout(0.2)(x)\n",
    "\n",
    "x = keras.layers.Dense(Ne/4)(x)\n",
    "x = keras.layers.Lambda(antirectifier)(x)\n",
    "x = keras.layers.Dropout(0.2)(x)\n",
    "\n",
    "weights = keras.layers.Dense(Ne, name = \"weights\")(x)  # no activation is applied"
   ]
  },
  {
   "cell_type": "code",
   "execution_count": 5,
   "metadata": {},
   "outputs": [],
   "source": [
    "multiplied = keras.layers.Multiply()([_input, weights])"
   ]
  },
  {
   "cell_type": "code",
   "execution_count": 6,
   "metadata": {},
   "outputs": [],
   "source": [
    "output = keras.layers.Lambda(lambda x: K.sum(x, axis=1, keepdims=True), name=\"output\")(multiplied)"
   ]
  },
  {
   "cell_type": "code",
   "execution_count": 7,
   "metadata": {},
   "outputs": [],
   "source": [
    "model = keras.Model(\n",
    "    inputs=[_input],\n",
    "    outputs=[output],\n",
    ")"
   ]
  },
  {
   "cell_type": "code",
   "execution_count": 22,
   "metadata": {},
   "outputs": [],
   "source": [
    "#keras.utils.plot_model(model, \"ABLE_model_with_shape_info.png\", show_shapes=True)"
   ]
  },
  {
   "cell_type": "code",
   "execution_count": null,
   "metadata": {},
   "outputs": [],
   "source": [
    "# def signed_mean_squared_logarithmic_error(y_true, y_pred, scale=1.):\n",
    "#     first_log = K.log(K.clip(K.abs(y_pred[:, :1]) * scale, K.epsilon(), None) + 1.) * K.sign(y_pred[:, :1])\n",
    "#     second_log = K.log(K.clip(K.abs(y_true[:, :1]) * scale, K.epsilon(), None) + 1.) * K.sign(y_true[:, :1])\n",
    "#     return K.mean(K.square(first_log - second_log), axis=-1)"
   ]
  },
  {
   "cell_type": "code",
   "execution_count": null,
   "metadata": {},
   "outputs": [],
   "source": [
    "# model.compile(\n",
    "#     optimizer=keras.optimizers.Adam(learning_rate=1e-3),\n",
    "#     loss={\n",
    "#         \"output\": keras.losses.MeanSquaredLogarithmicError()\n",
    "#     },\n",
    "#     loss_weights={\"output\":1.0},\n",
    "# )"
   ]
  },
  {
   "cell_type": "code",
   "execution_count": 8,
   "metadata": {},
   "outputs": [],
   "source": [
    "model.compile(\n",
    "    optimizer = keras.optimizers.Adam(learning_rate=1e-3),\n",
    "    loss = keras.losses.MeanSquaredLogarithmicError(),\n",
    "    metrics = [keras.metrics.MeanSquaredLogarithmicError()]\n",
    ") \n"
   ]
  },
  {
   "cell_type": "markdown",
   "metadata": {},
   "source": [
    "## 1-2. Prepare x_train and y_train"
   ]
  },
  {
   "cell_type": "code",
   "execution_count": 9,
   "metadata": {},
   "outputs": [],
   "source": [
    "inputFilepath = r'E:\\Desktop\\internshipDeepUS\\04_14_2021\\Input_Target_ABLE\\input\\PICMUS16.mat'\n",
    "targetFilepath = r'E:\\Desktop\\internshipDeepUS\\04_14_2021\\Input_Target_ABLE\\target\\PICMUS16.mat'\n",
    "datasetsNames = ['carotid_cross','carotid_long','contrast_expe','resolution_expe','contrast_simu','resolution_simu']"
   ]
  },
  {
   "cell_type": "code",
   "execution_count": 10,
   "metadata": {},
   "outputs": [],
   "source": [
    "inputFile = scio.loadmat(inputFilepath)\n",
    "targetFile = scio.loadmat(targetFilepath)"
   ]
  },
  {
   "cell_type": "code",
   "execution_count": 11,
   "metadata": {},
   "outputs": [
    {
     "name": "stdout",
     "output_type": "stream",
     "text": [
      "input shape: (235683, 128)\n",
      "target shape: (235683, 1)\n"
     ]
    }
   ],
   "source": [
    "print(\"input shape:\",inputFile[datasetsNames[1]].shape)\n",
    "print(\"target shape:\",targetFile[datasetsNames[1]].shape)"
   ]
  },
  {
   "cell_type": "code",
   "execution_count": 12,
   "metadata": {},
   "outputs": [],
   "source": [
    "x_train = np.concatenate([inputFile[datasetsNames[i]] for i in range(len(datasetsNames))],axis=0) # x_train.shape=(1414098, 128)\n",
    "y_train = np.concatenate([targetFile[datasetsNames[i]] for i in range(len(datasetsNames))],axis=0)# y_train.shape=(1414098, 1)"
   ]
  },
  {
   "cell_type": "markdown",
   "metadata": {},
   "source": [
    "## 1-3. Train and save the model"
   ]
  },
  {
   "cell_type": "code",
   "execution_count": 13,
   "metadata": {},
   "outputs": [
    {
     "name": "stdout",
     "output_type": "stream",
     "text": [
      "Epoch 1/3\n",
      "44191/44191 [==============================] - 254s 5ms/step - loss: 1.3453 - mean_squared_logarithmic_error: 1.3453\n",
      "Epoch 2/3\n",
      "44191/44191 [==============================] - 207s 5ms/step - loss: 0.6916 - mean_squared_logarithmic_error: 0.6916\n",
      "Epoch 3/3\n",
      "44191/44191 [==============================] - 221s 5ms/step - loss: 0.5382 - mean_squared_logarithmic_error: 0.5382\n"
     ]
    },
    {
     "data": {
      "text/plain": [
       "<tensorflow.python.keras.callbacks.History at 0x1feeec250d0>"
      ]
     },
     "execution_count": 13,
     "metadata": {},
     "output_type": "execute_result"
    }
   ],
   "source": [
    "model.fit(\n",
    "    x=x_train, y=y_train, batch_size=None, epochs=3, verbose=1\n",
    ")"
   ]
  },
  {
   "cell_type": "code",
   "execution_count": 14,
   "metadata": {},
   "outputs": [
    {
     "name": "stdout",
     "output_type": "stream",
     "text": [
      "INFO:tensorflow:Assets written to: my_model.tf\\assets\n"
     ]
    }
   ],
   "source": [
    "model.save('my_model.tf')\n",
    "model.save_weights(\"my_weights.tf\")"
   ]
  },
  {
   "cell_type": "code",
   "execution_count": null,
   "metadata": {},
   "outputs": [],
   "source": []
  }
 ],
 "metadata": {
  "kernelspec": {
   "display_name": "Python 3",
   "language": "python",
   "name": "python3"
  },
  "language_info": {
   "codemirror_mode": {
    "name": "ipython",
    "version": 3
   },
   "file_extension": ".py",
   "mimetype": "text/x-python",
   "name": "python",
   "nbconvert_exporter": "python",
   "pygments_lexer": "ipython3",
   "version": "3.8.5"
  }
 },
 "nbformat": 4,
 "nbformat_minor": 4
}
